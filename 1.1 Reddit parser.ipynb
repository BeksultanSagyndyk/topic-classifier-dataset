{
 "cells": [
  {
   "cell_type": "markdown",
   "metadata": {},
   "source": [
    "# libs"
   ]
  },
  {
   "cell_type": "code",
   "execution_count": 2,
   "metadata": {},
   "outputs": [],
   "source": [
    "import praw\n",
    "import pandas as pd\n",
    "import tqdm"
   ]
  },
  {
   "cell_type": "markdown",
   "metadata": {},
   "source": [
    "# initialize"
   ]
  },
  {
   "cell_type": "code",
   "execution_count": 2,
   "metadata": {},
   "outputs": [],
   "source": [
    "client_id = 'gkO-rNH3V7jnyAiWM8H_Dw'\n",
    "client_secret = 'h6LPGT7SAsfo-RVckDY_yIyLTBbv8Q'\n",
    "user_agent = 'beksultan_web_scrapper'\n",
    "\n",
    "reddit = praw.Reddit(client_id=client_id,\n",
    "                     client_secret=client_secret,\n",
    "                     user_agent=user_agent)"
   ]
  },
  {
   "cell_type": "code",
   "execution_count": 4,
   "metadata": {},
   "outputs": [
    {
     "name": "stdout",
     "output_type": "stream",
     "text": [
      "<praw.reddit.Reddit object at 0x7fe3c8943c40>\n"
     ]
    }
   ],
   "source": [
    "print(reddit)"
   ]
  },
  {
   "cell_type": "markdown",
   "metadata": {},
   "source": [
    "# my subreddits"
   ]
  },
  {
   "cell_type": "code",
   "execution_count": 7,
   "metadata": {},
   "outputs": [],
   "source": [
    "datasets_path = './first-statistics/DP Datsets - Классы и датасеты.csv'\n",
    "df = pd.read_csv(datasets_path)\n",
    "\n",
    "my_subreddits = (\n",
    "    df\n",
    "    [df['Название датасета'] == 'Reddit']\n",
    "    ['Ссылка на датасет']\n",
    "    .str.split('/')\n",
    "    .apply(lambda x: x[-2])\n",
    "    .tolist()\n",
    ")"
   ]
  },
  {
   "cell_type": "markdown",
   "metadata": {},
   "source": [
    "#### new subreddits"
   ]
  },
  {
   "cell_type": "code",
   "execution_count": null,
   "metadata": {},
   "outputs": [],
   "source": [
    "# first subbredits\n",
    "# 'artificial', 'ArtificialInteligence',\n",
    "# 'learnmachinelearning', 'MachineLearning',\n",
    "# 'reinforcementlearning', 'computervision', \n",
    "# 'LanguageTechnology', 'celebrities', 'Celebs',\n",
    "# 'CelebBattles', 'CelebrityCandids', 'depression',\n",
    "# 'CatastrophicFailure', 'naturesfury', 'ThingsThatBlowUp', \n",
    "# 'DestructionPorn', 'StormComing', 'Conflagration',\n",
    "# 'promptcritical', 'finance', 'economy', 'Crypto_Currency_News',\n",
    "# 'jobs', 'careeradvice', 'work', 'GetEmployed', 'humanresources',\n",
    "# 'cscareerquestions', 'Unemployed', 'UKJobs', 'psychology', 'askpsychology',\n",
    "# 'AcademicPsychology', 'BehaviorAnalysis', 'religion', 'AskAChristian', \n",
    "# 'Christianity', 'TrueChristian', 'Christians', 'Bible', 'OrthodoxChristianity',\n",
    "# 'Catholicism', 'atheism',\n",
    "# 'AcademicBiblical', 'space', 'Astronomy', 'Mars', 'astrophotography',\n",
    "# 'nasa', 'askastronomy', 'spacex'\n",
    "\n",
    "# new subreddits \n",
    "# https://www.reddit.com/r/entertainment/\n",
    "# https://www.reddit.com/r/CrazyDaysandNights/\n",
    "\n",
    "# https://www.reddit.com/r/news/\n",
    "# https://www.reddit.com/r/politics/\n",
    "# https://www.reddit.com/r/relationship_advice/\n",
    "\n",
    "# https://www.reddit.com/r/science/\n",
    "# https://www.reddit.com/r/technology/\n",
    "\n",
    "# https://www.reddit.com/r/Oscars/\n",
    "\n",
    "# my_subreddits = ['science','technology']\n",
    "\n",
    "# https://www.reddit.com/r/gadgets/\n",
    "\n",
    "# https://www.reddit.com/r/leagueoflegends/\n",
    "#     https://www.reddit.com/r/videogames/\n",
    "#         https://www.reddit.com/r/DotA2/\n",
    "#             https://www.reddit.com/r/GlobalOffensive/"
   ]
  },
  {
   "cell_type": "markdown",
   "metadata": {},
   "source": [
    "# parser function"
   ]
  },
  {
   "cell_type": "code",
   "execution_count": 6,
   "metadata": {},
   "outputs": [],
   "source": [
    "def subbredit_parser(subreddit):\n",
    "    limit=5000\n",
    "    except_type = praw.models.reddit.more.MoreComments\n",
    "    posts = list()\n",
    "    ml_subreddit = reddit.subreddit(subreddit)\n",
    "    for post in ml_subreddit.hot(limit=limit):\n",
    "        if post.num_comments > 0:\n",
    "             comments = [comment.body for comment in post.comments.list() if type(comment)!=except_type]\n",
    "        else:\n",
    "            comments = None\n",
    "        posts.append(\n",
    "            [post.title, #post.score,\n",
    "             #post.id,\n",
    "             post.subreddit,\n",
    "             #post.url, \n",
    "             post.num_comments,\n",
    "             post.selftext, #post.created,\n",
    "             comments\n",
    "            ]\n",
    "        )\n",
    "    posts = pd.DataFrame(posts,\n",
    "                         columns=['title', #'score', 'id',\n",
    "                                  'subreddit', #'url',\n",
    "                                  'num_comments',\n",
    "                                  'body', #'created',\n",
    "                                  'comments'])\n",
    "    return posts"
   ]
  },
  {
   "cell_type": "markdown",
   "metadata": {},
   "source": [
    "# main cell"
   ]
  },
  {
   "cell_type": "code",
   "execution_count": 7,
   "metadata": {},
   "outputs": [
    {
     "name": "stderr",
     "output_type": "stream",
     "text": [
      "/tmp/ipykernel_134405/1079143492.py:2: TqdmDeprecationWarning: This function will be removed in tqdm==5.0.0\n",
      "Please use `tqdm.notebook.tqdm` instead of `tqdm.tqdm_notebook`\n",
      "  for subrdt in tqdm.tqdm_notebook(my_subreddits):\n"
     ]
    },
    {
     "data": {
      "application/vnd.jupyter.widget-view+json": {
       "model_id": "f6b8cc370b8146f58af8e5c63277c3a3",
       "version_major": 2,
       "version_minor": 0
      },
      "text/plain": [
       "  0%|          | 0/2 [00:00<?, ?it/s]"
      ]
     },
     "metadata": {},
     "output_type": "display_data"
    }
   ],
   "source": [
    "result = pd.DataFrame()\n",
    "for subrdt in tqdm.tqdm_notebook(my_subreddits):\n",
    "    result = pd.concat([result, subbredit_parser(subreddit=subrdt)])"
   ]
  },
  {
   "cell_type": "code",
   "execution_count": 13,
   "metadata": {},
   "outputs": [],
   "source": [
    "part1 = result[['title','subreddit']]\n",
    "part2 = result[['body','subreddit']]\n",
    "part3 = result[['comments','subreddit']]\n",
    "\n",
    "part1 = part1.drop_duplicates('title')\n",
    "\n",
    "part2 = part2[part2.body!=''].drop_duplicates('body')\n",
    "\n",
    "part3 = part3.explode('comments').drop_duplicates('comments')\n",
    "\n",
    "part1.columns = ['text','origin_topic']\n",
    "part1['topic'] = part1.origin_topic.map({'science':'Science&Technology',\n",
    "                                        'technology':'Science&Technology'})\n",
    "part1['source'] = 'reddit-title-science-tech'\n",
    "\n",
    "part2.columns = ['text','origin_topic']\n",
    "part2['topic'] = part2.origin_topic.map({'science':'Science&Technology',\n",
    "                                        'technology':'Science&Technology'})\n",
    "part2['source'] = 'reddit-body-science-tech'\n",
    "\n",
    "part3.columns = ['text','origin_topic']\n",
    "part3['topic'] = part3.origin_topic.map({'science':'Science&Technology',\n",
    "                                        'technology':'Science&Technology'})\n",
    "part3['source'] = 'reddit-comments-science-tech'\n",
    "\n",
    "res = pd.concat([part1,part2,part3])\n",
    "\n",
    "res = res[['text', 'topic', 'origin_topic', 'source']].drop_duplicates('text')\n",
    "\n",
    "res['topic'] = 'Science&Technology'\n",
    "\n",
    "res.to_csv('./dataset-prepared-data/reddit-science-tech.csv', index=False)"
   ]
  }
 ],
 "metadata": {
  "kernelspec": {
   "display_name": "Python 3 (ipykernel)",
   "language": "python",
   "name": "python3"
  },
  "language_info": {
   "codemirror_mode": {
    "name": "ipython",
    "version": 3
   },
   "file_extension": ".py",
   "mimetype": "text/x-python",
   "name": "python",
   "nbconvert_exporter": "python",
   "pygments_lexer": "ipython3",
   "version": "3.8.10"
  }
 },
 "nbformat": 4,
 "nbformat_minor": 4
}
