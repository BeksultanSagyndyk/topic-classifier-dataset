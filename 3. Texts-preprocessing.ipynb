{
 "cells": [
  {
   "cell_type": "markdown",
   "id": "f5b59c76",
   "metadata": {},
   "source": [
    "# libs"
   ]
  },
  {
   "cell_type": "code",
   "execution_count": 2,
   "id": "12f6b9bd",
   "metadata": {},
   "outputs": [],
   "source": [
    "import os\n",
    "import pandas as pd\n",
    "import tqdm\n",
    "import numpy as np\n",
    "import warnings\n",
    "warnings.filterwarnings('ignore')\n",
    "import multiprocessing as mp\n",
    "import nltk\n",
    "import string\n",
    "import re\n",
    "import matplotlib.pyplot as plt\n",
    "import seaborn as sns\n",
    "from utils.text_preprocessing import *"
   ]
  },
  {
   "cell_type": "markdown",
   "id": "e6eb2aca",
   "metadata": {},
   "source": [
    "# prepare datasets"
   ]
  },
  {
   "cell_type": "code",
   "execution_count": 3,
   "id": "1afa8120",
   "metadata": {},
   "outputs": [],
   "source": [
    "df = pd.read_csv('./dataset-prepared-data/title-body-reddit.csv')\n",
    "\n",
    "reddit_tb = df['topic'].str.lower().unique()\n",
    "\n",
    "df.topic = df.topic.str.lower()\n",
    "df = df.drop_duplicates('text')\n",
    "df['source'] = 'title-body-reddit.csv'\n",
    "\n",
    "df2 = pd.read_csv('./dataset-prepared-data/comments-reddit.csv')\n",
    "\n",
    "reddit_cm = df2.topic.str.lower().unique()\n",
    "df2.topic = df2.topic.str.lower()\n",
    "df2 = df2.drop_duplicates('text')\n",
    "df2['source'] = 'comments-reddit.csv'\n",
    "\n",
    "df3 = pd.read_csv('./dataset-prepared-data/self-dialogue.csv')\n",
    "\n",
    "selfdial = df3.topic.str.lower().unique()\n",
    "\n",
    "df3 = df3.drop_duplicates('text')\n",
    "df3['source'] = 'self-dialogue.csv'\n",
    "\n",
    "df4 = pd.read_csv('./dataset-prepared-data/ccpe.csv')\n",
    "ccpe = df4.topic.unique()\n",
    "\n",
    "df4 = df4.drop_duplicates('text')\n",
    "\n",
    "df4['source'] = 'ccpe.csv'\n",
    "\n",
    "df5 = pd.read_csv('./dataset-prepared-data/multiwoz.csv')\n",
    "\n",
    "df5.topic = df5.topic.str.replace(\"nan, \",'').str.replace('nan','').str.replace(' ','')\n",
    "\n",
    "df5.topic = df5.topic.apply(eval).apply(lambda x:list(set(x)))\n",
    "\n",
    "df5.topic = df5.topic.astype(str)\n",
    "\n",
    "df5 = df5.drop_duplicates(subset=['text','topic'])\n",
    "\n",
    "df5 = df5[df5.topic!='[]']\n",
    "\n",
    "df5.topic = df5.topic.str.lower()\n",
    "\n",
    "multiwoz = df5.topic.apply(eval).explode().unique()\n",
    "\n",
    "df5.topic = df5.topic.apply(eval)\n",
    "\n",
    "df5 = df5.explode('topic')\n",
    " \n",
    "df5['source'] = 'multiwoz'"
   ]
  },
  {
   "cell_type": "code",
   "execution_count": 158,
   "id": "c1ad896d",
   "metadata": {},
   "outputs": [
    {
     "data": {
      "application/vnd.jupyter.widget-view+json": {
       "model_id": "67baae4808d546f383115797f74c6eb4",
       "version_major": 2,
       "version_minor": 0
      },
      "text/plain": [
       "  0%|          | 0/19776 [00:00<?, ?it/s]"
      ]
     },
     "metadata": {},
     "output_type": "display_data"
    }
   ],
   "source": [
    "df6 = pd.read_csv('./dataset-prepared-data/medium.csv')\n",
    "\n",
    "df6.topic = df6.topic.str.lower()\n",
    "\n",
    "df6.topic = df6.topic.apply(eval).apply(lambda x:list(set(x)))\n",
    "\n",
    "df6.origin_topic = df6.origin_topic.apply(eval).apply(lambda x:list(set(x)))\n",
    "\n",
    "df6 = df6[df6.topic.astype(str)!= \"['no label']\"]\n",
    "\n",
    "df6 = df6.explode('topic')\n",
    "\n",
    "df6 = df6[df6.topic!='no label']\n",
    "\n",
    "medium = df6.topic.unique()\n",
    "\n",
    "df6['source'] = 'medium'\n",
    "\n",
    "df6_fam = df6[df6.topic==\"family&relationships\"]\n",
    "df6_fam = df6_fam[df6_fam.origin_topic.astype(str).isin([\"['relationships']\",\"['parenting']\",\"['relationships', 'love']\"])]\n",
    "\n",
    "from langdetect import detect\n",
    "\n",
    "lang = list()\n",
    "for i in tqdm.tqdm_notebook(df6_fam.text.values):\n",
    "    try:\n",
    "        lang.append(detect(i))\n",
    "    except:\n",
    "        lang.append('err')\n",
    "\n",
    "df6_fam = df6_fam.drop_duplicates('text')\n",
    "df6_fam = df6_fam.dropna()\n",
    "df6_fam = df6_fam[df6_fam.text!='']\n",
    "df6_fam.text = df6_fam.text.astype(str)\n",
    "df6_fam['lang'] = lang\n",
    "\n",
    "df6_fam = df6_fam[df6_fam.lang=='en'][['text', 'topic', 'origin_topic', 'source']]"
   ]
  },
  {
   "cell_type": "code",
   "execution_count": 173,
   "id": "a1267766",
   "metadata": {},
   "outputs": [
    {
     "data": {
      "application/vnd.jupyter.widget-view+json": {
       "model_id": "9f3761a04390492da7a4073d58e87cc5",
       "version_major": 2,
       "version_minor": 0
      },
      "text/plain": [
       "  0%|          | 0/18939 [00:00<?, ?it/s]"
      ]
     },
     "metadata": {},
     "output_type": "display_data"
    }
   ],
   "source": [
    "df6 = pd.read_csv('./dataset-prepared-data/medium.csv')\n",
    "\n",
    "df6.topic = df6.topic.str.lower()\n",
    "\n",
    "df6.topic = df6.topic.apply(eval).apply(lambda x:list(set(x)))\n",
    "\n",
    "df6.origin_topic = df6.origin_topic.apply(eval).apply(lambda x:list(set(x)))\n",
    "\n",
    "df6 = df6[df6.topic.astype(str)!= \"['no label']\"]\n",
    "\n",
    "df6 = df6.explode('topic')\n",
    "\n",
    "df6 = df6[df6.topic!='no label']\n",
    "\n",
    "medium = df6.topic.unique()\n",
    "\n",
    "df6['source'] = 'medium'\n",
    "df6 = df6[df6.origin_topic.astype(str).isin([\"['education']\",\"['college']\",\n",
    "                                             \"['college', 'education']\"])]\n",
    "\n",
    "lang = list()\n",
    "for i in tqdm.tqdm_notebook(df6.text.values):\n",
    "    try:\n",
    "        lang.append(detect(i))\n",
    "    except:\n",
    "        lang.append('err')\n",
    "\n",
    "df6 = df6.drop_duplicates('text')\n",
    "df6 = df6.dropna()\n",
    "df6 = df6[df6.text!='']\n",
    "df6.text = df6.text.astype(str)\n",
    "df6['lang'] = lang\n",
    "\n",
    "df6 = df6[df6.lang=='en'][['text', 'topic', 'origin_topic', 'source']]"
   ]
  },
  {
   "cell_type": "code",
   "execution_count": 8,
   "id": "579ae081",
   "metadata": {},
   "outputs": [],
   "source": [
    "\n",
    "df7 = pd.read_csv('./dataset-prepared-data/amazon-reviews.csv')\n",
    "\n",
    "l = list((df7.topic + '....' + df7.origin_topic).unique())\n",
    "\n",
    "l_map = dict()\n",
    "for i in l:\n",
    "    l_map[i.split('....')[1]]=i.split('....')[0]\n",
    "\n",
    "l_map['Kindle Store'] = 'books&literature'\n",
    "l_map['Automotive'] = 'personaltransport'\n",
    "l_map['CDs and Vinyl'] = 'music'\n",
    "l_map['Office Products'] = 'office'\n",
    "\n",
    "df7['topic'] = df7['origin_topic'].map(l_map)\n",
    "\n",
    "amazon = df7.topic.unique()\n",
    "\n",
    "df7 = df7.drop_duplicates('text')\n",
    "\n",
    "df7['source'] = 'amazon'"
   ]
  },
  {
   "cell_type": "code",
   "execution_count": 9,
   "id": "1da65fae",
   "metadata": {},
   "outputs": [],
   "source": [
    "df.topic = df.topic.apply(lambda x: 'disasters' if x=='disaster' else x)\n",
    "\n",
    "res.topic = res.topic.apply(lambda x: 'gadgets' if x=='gadjets' else x)\n",
    "\n",
    "df.topic = df.topic.apply(lambda x: 'movies&tv' if x=='movies' else x)\n",
    "\n",
    "res = pd.DataFrame()\n",
    "for i in [df, df2, df3, df4, df5,df7]:\n",
    "    res = pd.concat([res, i[list(df.columns)]])\n",
    "\n",
    "res = res.drop_duplicates('text')"
   ]
  },
  {
   "cell_type": "markdown",
   "id": "1b971cc8",
   "metadata": {},
   "source": [
    "# add circa depression and clothes"
   ]
  },
  {
   "cell_type": "code",
   "execution_count": 32,
   "id": "8f8ed9d8",
   "metadata": {},
   "outputs": [],
   "source": [
    "df1 = pd.read_csv('./dataset-prepared-data/circa.csv')\n",
    "df1['source'] = 'circa.csv'\n",
    "\n",
    "df2 = pd.read_csv('./dataset-prepared-data/depression.csv')\n",
    "df2['source'] = 'depression.csv'\n",
    "\n",
    "df3 = pd.read_csv('./dataset-prepared-data/women-clothes.csv')\n",
    "df3['source'] = 'women-clothes.csv'\n",
    "\n",
    "for i in [df, df1, df2, df3]:\n",
    "    res = pd.concat([res, i[list(res.columns)]])"
   ]
  },
  {
   "cell_type": "markdown",
   "id": "911ec8e4",
   "metadata": {},
   "source": [
    "# rename topics"
   ]
  },
  {
   "cell_type": "code",
   "execution_count": 35,
   "id": "8322fffa",
   "metadata": {},
   "outputs": [],
   "source": [
    "t = ['artificialintelligence',\n",
    " 'celebrities&events',\n",
    " 'depression',\n",
    "       'disasters', 'finance', 'job', 'psychology', 'religion', 'space',\n",
    "       'music', 'movies&tv', 'sports', 'clothes', 'masstransit', 'food',\n",
    "       'leisure', 'health&medicine', 'politics', 'books&literature',\n",
    "       'science&technology', 'education', 'family&relationships', 'news',\n",
    "       'travel', 'gadgets', 'animals&pets', 'videogames', 'beauty',\n",
    "       'garden', 'toys&games', 'personaltransport', 'home&design',\n",
    "       'art&hobbies']\n",
    "\n",
    "tt = dict()\n",
    "for i in t:\n",
    "    tt[i]=i[0].upper()+i[1:]"
   ]
  },
  {
   "cell_type": "code",
   "execution_count": 186,
   "id": "c620b45a",
   "metadata": {},
   "outputs": [],
   "source": [
    "mapper = {'artificialintelligence': 'ArtificialIntelligence',\n",
    " 'celebrities&events': 'Celebrities&Events',\n",
    " 'celebrities': 'Celebrities&Events',          \n",
    " 'depression': 'Depression',\n",
    " 'disasters': 'Disasters',\n",
    " 'disaster': 'Disasters',          \n",
    " 'finance': 'Finance',\n",
    " 'job': 'Job',\n",
    " 'psychology': 'Psychology',\n",
    " 'religion': 'Religion',\n",
    " 'space': 'Space',\n",
    " 'music': 'Music',\n",
    " 'movies&tv': 'Movies&Tv',\n",
    " 'sports': 'Sports',\n",
    " 'clothes': 'Clothes',\n",
    " 'masstransit': 'MassTransit',\n",
    " 'food': 'Food',\n",
    " 'leisure': 'Leisure',\n",
    " 'health&medicine': 'Health&Medicine',\n",
    " 'politics': 'Politics',\n",
    " 'books&literature': 'Books&Literature',\n",
    " 'science&technology': 'Science&Technology',\n",
    " 'education': 'Education',\n",
    " 'family&relationships': 'Family&Relationships',\n",
    " 'news': 'News',\n",
    " 'travel': 'Travel',\n",
    " 'gadgets': 'Gadgets',\n",
    " 'animals&pets': 'Animals&Pets',\n",
    " 'videogames': 'Videogames',\n",
    " 'beauty': 'Beauty',\n",
    " 'garden': 'Garden',\n",
    " 'toys&games': 'Toys&Games',\n",
    " 'personaltransport': 'PersonalTransport',\n",
    " 'home&design': 'Home&Design',\n",
    " 'art&hobbies': 'Art&Hobbies'}"
   ]
  },
  {
   "cell_type": "code",
   "execution_count": 38,
   "id": "cd276ba6",
   "metadata": {},
   "outputs": [
    {
     "name": "stdout",
     "output_type": "stream",
     "text": [
      "CPU times: user 537 ms, sys: 97.6 ms, total: 634 ms\n",
      "Wall time: 623 ms\n"
     ]
    }
   ],
   "source": [
    "%%time\n",
    "res['topic'] = res['topic'].map(mapper)"
   ]
  },
  {
   "cell_type": "markdown",
   "id": "66f94031",
   "metadata": {},
   "source": [
    "# add celebs-reddit and yelp"
   ]
  },
  {
   "cell_type": "code",
   "execution_count": 42,
   "id": "04d76476",
   "metadata": {},
   "outputs": [
    {
     "name": "stdout",
     "output_type": "stream",
     "text": [
      "CPU times: user 4.61 s, sys: 939 ms, total: 5.55 s\n",
      "Wall time: 11 s\n"
     ]
    }
   ],
   "source": [
    "%%time\n",
    "pdf1 = pd.read_csv('./dataset-prepared-data/celebs-reddit.csv')\n",
    "pdf1['source'] = 'celebs-reddit.csv'\n",
    "\n",
    "pdf2 = pd.read_csv('./dataset-prepared-data/yelp_5topics.csv')\n",
    "pdf2['source'] = 'yelp_5topics.csv'\n",
    "\n",
    "pdf = pd.concat([pdf1,pdf2])"
   ]
  },
  {
   "cell_type": "code",
   "execution_count": 43,
   "id": "bdcb3388",
   "metadata": {},
   "outputs": [],
   "source": [
    "res = res[pdf.columns]"
   ]
  },
  {
   "cell_type": "code",
   "execution_count": 44,
   "id": "9575db46",
   "metadata": {},
   "outputs": [],
   "source": [
    "res = pd.concat([pdf,res])"
   ]
  },
  {
   "cell_type": "code",
   "execution_count": 46,
   "id": "dcbc9f13",
   "metadata": {},
   "outputs": [],
   "source": [
    "res.to_csv('./dataset-train-data/dataset_v6.csv', index=False)"
   ]
  },
  {
   "cell_type": "markdown",
   "id": "b8d14530",
   "metadata": {},
   "source": [
    "# preproccessing"
   ]
  },
  {
   "cell_type": "code",
   "execution_count": 4,
   "id": "eb2cc5e1",
   "metadata": {},
   "outputs": [],
   "source": [
    "res = pd.read_csv('./dataset-train-data/dataset_v6.csv')\n",
    "\n",
    "res = res.reset_index(drop=True)\n",
    "\n",
    "res = res.drop_duplicates('text')\n",
    "\n",
    "res.text = res.text.astype(str)"
   ]
  },
  {
   "cell_type": "code",
   "execution_count": 21,
   "id": "6b7cc326",
   "metadata": {},
   "outputs": [
    {
     "name": "stdout",
     "output_type": "stream",
     "text": [
      "text preprocessed\n",
      "CPU times: user 15.1 s, sys: 12.1 s, total: 27.2 s\n",
      "Wall time: 6min 29s\n"
     ]
    }
   ],
   "source": [
    "%%time\n",
    "res = main(res, 'text', 'new_text')"
   ]
  },
  {
   "cell_type": "markdown",
   "id": "a79ed4fb",
   "metadata": {},
   "source": [
    "# убираем ревью из спорта"
   ]
  },
  {
   "cell_type": "code",
   "execution_count": 38,
   "id": "05301924",
   "metadata": {},
   "outputs": [],
   "source": [
    "res = res[((res.topic=='Sports') & (res.source=='amazon'))==False]"
   ]
  },
  {
   "cell_type": "markdown",
   "id": "a4ddce17",
   "metadata": {},
   "source": [
    "# убираем ревью из Science&Technology"
   ]
  },
  {
   "cell_type": "code",
   "execution_count": 43,
   "id": "b9e95203",
   "metadata": {},
   "outputs": [
    {
     "data": {
      "text/plain": [
       "amazon    65088\n",
       "Name: source, dtype: int64"
      ]
     },
     "execution_count": 43,
     "metadata": {},
     "output_type": "execute_result"
    }
   ],
   "source": [
    "res[res.topic=='Science&Technology'].source.value_counts()"
   ]
  },
  {
   "cell_type": "code",
   "execution_count": 44,
   "id": "9f0b162d",
   "metadata": {},
   "outputs": [],
   "source": [
    "res = res[((res.topic=='Science&Technology') & (res.source=='amazon'))==False]"
   ]
  },
  {
   "cell_type": "markdown",
   "id": "c87cd125",
   "metadata": {},
   "source": [
    "# убираем оригинальный топик про электронику из Gadgets"
   ]
  },
  {
   "cell_type": "code",
   "execution_count": 60,
   "id": "e3dfc41c",
   "metadata": {},
   "outputs": [],
   "source": [
    "res = res[((res.topic=='Gadgets') & (res.origin_topic=='Electronics'))==False]"
   ]
  },
  {
   "cell_type": "markdown",
   "id": "2ecece84",
   "metadata": {},
   "source": [
    "# + new data from reddit"
   ]
  },
  {
   "cell_type": "code",
   "execution_count": 150,
   "id": "ac237c9b",
   "metadata": {},
   "outputs": [],
   "source": [
    "df1 = pd.read_csv('./dataset-prepared-data/reddit-news-politics-relation.csv')\n",
    "df2 = pd.read_csv('./dataset-prepared-data/reddit-videogames.csv')\n",
    "df3 = pd.read_csv('./dataset-prepared-data/reddit-science-tech.csv')"
   ]
  },
  {
   "cell_type": "code",
   "execution_count": 151,
   "id": "5a48d680",
   "metadata": {},
   "outputs": [],
   "source": [
    "res = pd.concat([res,df1, df2, df3])"
   ]
  },
  {
   "cell_type": "code",
   "execution_count": 177,
   "id": "afed1e91",
   "metadata": {},
   "outputs": [
    {
     "data": {
      "text/plain": [
       "(34,)"
      ]
     },
     "execution_count": 177,
     "metadata": {},
     "output_type": "execute_result"
    }
   ],
   "source": [
    "res.topic.value_counts().shape"
   ]
  },
  {
   "cell_type": "markdown",
   "id": "2be42af9",
   "metadata": {},
   "source": [
    "# + education from medium"
   ]
  },
  {
   "cell_type": "code",
   "execution_count": 176,
   "id": "73461da6",
   "metadata": {},
   "outputs": [],
   "source": [
    "res = pd.concat([res, df6])"
   ]
  },
  {
   "cell_type": "markdown",
   "id": "b3e46ce0",
   "metadata": {},
   "source": [
    "# final dataset"
   ]
  },
  {
   "cell_type": "code",
   "execution_count": 184,
   "id": "15fe488d",
   "metadata": {},
   "outputs": [],
   "source": [
    "res.topic = res.topic.str.lower()"
   ]
  },
  {
   "cell_type": "code",
   "execution_count": 191,
   "id": "4c3e28a7",
   "metadata": {},
   "outputs": [],
   "source": [
    "res.topic = res.topic.map(mapper)"
   ]
  },
  {
   "cell_type": "markdown",
   "id": "4d348a90",
   "metadata": {},
   "source": [
    "# family and relationships добавим отобранные тексты из медиума"
   ]
  },
  {
   "cell_type": "code",
   "execution_count": 145,
   "id": "578b9d2d",
   "metadata": {},
   "outputs": [],
   "source": [
    "res = pd.concat([res,df6_fam])"
   ]
  },
  {
   "cell_type": "markdown",
   "id": "cb4a9a0c",
   "metadata": {},
   "source": [
    "# стандартный препроцессинг который для всех текстов"
   ]
  },
  {
   "cell_type": "code",
   "execution_count": 230,
   "id": "aac4b84e",
   "metadata": {},
   "outputs": [
    {
     "name": "stdout",
     "output_type": "stream",
     "text": [
      "text preprocessed\n",
      "CPU times: user 23.1 s, sys: 20.1 s, total: 43.2 s\n",
      "Wall time: 59.2 s\n"
     ]
    }
   ],
   "source": [
    "%%time\n",
    "res = main(res, 'text', 'text')"
   ]
  },
  {
   "cell_type": "code",
   "execution_count": null,
   "id": "baf8622c",
   "metadata": {},
   "outputs": [],
   "source": [
    "res.to_csv('./dataset-train-data/dataset_v6.csv', index=False)"
   ]
  },
  {
   "cell_type": "markdown",
   "id": "69bbbd38",
   "metadata": {},
   "source": [
    "#  препроцессинг для отбора текстов"
   ]
  },
  {
   "cell_type": "code",
   "execution_count": 4,
   "id": "62102b57",
   "metadata": {},
   "outputs": [
    {
     "name": "stdout",
     "output_type": "stream",
     "text": [
      "CPU times: user 23.3 s, sys: 4.49 s, total: 27.8 s\n",
      "Wall time: 51.3 s\n"
     ]
    }
   ],
   "source": [
    "%%time\n",
    "res = pd.read_csv('./dataset-train-data/dataset_v6.csv')"
   ]
  },
  {
   "cell_type": "code",
   "execution_count": 7,
   "id": "1e6e94a0",
   "metadata": {
    "scrolled": true
   },
   "outputs": [
    {
     "name": "stdout",
     "output_type": "stream",
     "text": [
      "              total        used        free      shared  buff/cache   available\r\n",
      "Mem:           23Gi       3.6Gi        16Gi        72Mi       2.9Gi        19Gi\r\n",
      "Swap:         6.0Gi       364Mi       5.6Gi\r\n"
     ]
    }
   ],
   "source": [
    "! free -h"
   ]
  },
  {
   "cell_type": "markdown",
   "id": "acd7a2b6",
   "metadata": {},
   "source": [
    "#    text = remove_emoticons(text)\n",
    "#    text = remove_emoji(text)\n",
    "\n",
    "#    text = remove_punctuation(text)"
   ]
  },
  {
   "cell_type": "code",
   "execution_count": 5,
   "id": "c8001199",
   "metadata": {},
   "outputs": [
    {
     "name": "stdout",
     "output_type": "stream",
     "text": [
      "CPU times: user 2.73 s, sys: 218 ms, total: 2.95 s\n",
      "Wall time: 2.95 s\n"
     ]
    }
   ],
   "source": [
    "%%time\n",
    "res.text.apply(type).value_counts()\n",
    "res = res[res.text.isna()==False]"
   ]
  },
  {
   "cell_type": "code",
   "execution_count": 6,
   "id": "41fce551",
   "metadata": {},
   "outputs": [
    {
     "name": "stdout",
     "output_type": "stream",
     "text": [
      "text preprocessed\n",
      "CPU times: user 10.8 s, sys: 10.5 s, total: 21.3 s\n",
      "Wall time: 4min 45s\n"
     ]
    }
   ],
   "source": [
    "%%time\n",
    "res = main(df=res, col1='text', col2='new_text')"
   ]
  },
  {
   "cell_type": "markdown",
   "id": "32bfa36f",
   "metadata": {},
   "source": [
    "# токенизация"
   ]
  },
  {
   "cell_type": "code",
   "execution_count": 7,
   "id": "6c13ab13",
   "metadata": {},
   "outputs": [],
   "source": [
    "from nltk.tokenize import word_tokenize\n",
    "\n",
    "def tokenize_(text):\n",
    "    return ' '.join(word_tokenize(text))"
   ]
  },
  {
   "cell_type": "code",
   "execution_count": 8,
   "id": "26b2e8af",
   "metadata": {
    "scrolled": true
   },
   "outputs": [
    {
     "name": "stdout",
     "output_type": "stream",
     "text": [
      "CPU times: user 5.98 s, sys: 1.25 s, total: 7.23 s\n",
      "Wall time: 7.22 s\n"
     ]
    }
   ],
   "source": [
    "%%time\n",
    "res.new_text = res.new_text.str.lower()"
   ]
  },
  {
   "cell_type": "code",
   "execution_count": 9,
   "id": "4144ebad",
   "metadata": {},
   "outputs": [
    {
     "name": "stdout",
     "output_type": "stream",
     "text": [
      "CPU times: user 12.2 s, sys: 10.8 s, total: 23 s\n",
      "Wall time: 4min 52s\n"
     ]
    }
   ],
   "source": [
    "%%time\n",
    "with mp.Pool(mp.cpu_count()) as pool:\n",
    "    res['new_text'] = pool.map(tokenize_, res['new_text']) "
   ]
  },
  {
   "cell_type": "markdown",
   "id": "b5eb616a",
   "metadata": {},
   "source": [
    "##  удалим стоп слова до лемматизации"
   ]
  },
  {
   "cell_type": "code",
   "execution_count": 10,
   "id": "da8b6849",
   "metadata": {},
   "outputs": [
    {
     "name": "stdout",
     "output_type": "stream",
     "text": [
      "CPU times: user 8.48 s, sys: 7.47 s, total: 16 s\n",
      "Wall time: 25.6 s\n"
     ]
    }
   ],
   "source": [
    "%%time\n",
    "with mp.Pool(mp.cpu_count()) as pool:\n",
    "    res['new_text'] = pool.map(remove_stopwords, res['new_text'])"
   ]
  },
  {
   "cell_type": "markdown",
   "id": "93c683f1",
   "metadata": {},
   "source": [
    "# лемматизация"
   ]
  },
  {
   "cell_type": "code",
   "execution_count": 11,
   "id": "004c1599",
   "metadata": {},
   "outputs": [],
   "source": [
    "from nltk.stem import WordNetLemmatizer\n",
    " \n",
    "lemmatizer = WordNetLemmatizer()\n",
    "\n",
    "def lemma_(text):\n",
    "    text = text.split(' ')\n",
    "    text = [lemmatizer.lemmatize(word) for word in text]\n",
    "    text = ' '.join(text)\n",
    "    return text"
   ]
  },
  {
   "cell_type": "code",
   "execution_count": 12,
   "id": "64f52b5c",
   "metadata": {},
   "outputs": [
    {
     "name": "stdout",
     "output_type": "stream",
     "text": [
      "CPU times: user 7.54 s, sys: 5.32 s, total: 12.9 s\n",
      "Wall time: 1min 40s\n"
     ]
    }
   ],
   "source": [
    "%%time\n",
    "with mp.Pool(mp.cpu_count()) as pool:\n",
    "    res['new_text'] = pool.map(lemma_, res['new_text'])"
   ]
  },
  {
   "cell_type": "markdown",
   "id": "601c3b58",
   "metadata": {},
   "source": [
    "# снова удалим стоп слова"
   ]
  },
  {
   "cell_type": "code",
   "execution_count": 13,
   "id": "39ff5c32",
   "metadata": {},
   "outputs": [
    {
     "name": "stdout",
     "output_type": "stream",
     "text": [
      "CPU times: user 7.63 s, sys: 5.52 s, total: 13.1 s\n",
      "Wall time: 13.9 s\n"
     ]
    }
   ],
   "source": [
    "%%time\n",
    "with mp.Pool(mp.cpu_count()) as pool:\n",
    "    res['new_text'] = pool.map(remove_stopwords, res['new_text']) "
   ]
  },
  {
   "cell_type": "code",
   "execution_count": 19,
   "id": "2131cc49",
   "metadata": {
    "scrolled": true
   },
   "outputs": [],
   "source": [
    "res.to_csv('./dataset-train-data/dataset_v6_with_new_text.csv', index=False)"
   ]
  },
  {
   "cell_type": "code",
   "execution_count": 3,
   "id": "3a32d6d5",
   "metadata": {},
   "outputs": [],
   "source": [
    "res = pd.read_csv('./dataset-train-data/dataset_v6_with_new_text.csv')"
   ]
  },
  {
   "cell_type": "code",
   "execution_count": 4,
   "id": "c0d99280",
   "metadata": {},
   "outputs": [
    {
     "name": "stdout",
     "output_type": "stream",
     "text": [
      "              total        used        free      shared  buff/cache   available\r\n",
      "Mem:           23Gi       9.9Gi       5.9Gi       238Mi       7.6Gi        12Gi\r\n",
      "Swap:         6.0Gi       149Mi       5.9Gi\r\n"
     ]
    }
   ],
   "source": [
    "! free -h"
   ]
  },
  {
   "cell_type": "code",
   "execution_count": null,
   "id": "fc397ae3",
   "metadata": {},
   "outputs": [],
   "source": [
    "%%time\n",
    "res['lens'] = res.new_text.str.split().apply(len)"
   ]
  },
  {
   "cell_type": "code",
   "execution_count": 6,
   "id": "a284ab6a",
   "metadata": {},
   "outputs": [
    {
     "data": {
      "text/plain": [
       "array(['Travel', 'MassTransit', 'Leisure', 'Beauty', 'Health&Medicine',\n",
       "       'ArtificialIntelligence', 'Depression', 'Disasters', 'Finance',\n",
       "       'Job', 'Psychology', 'Religion', 'Space', 'Music', 'Movies&Tv',\n",
       "       'Sports', 'Clothes', 'Food', 'Books&Literature', 'Videogames',\n",
       "       'Garden', 'Toys&Games', 'PersonalTransport', 'Home&Design',\n",
       "       'Gadgets', 'Art&Hobbies', 'Animals&Pets', 'Family&Relationships',\n",
       "       'News', 'Politics', 'Science&Technology', 'Education',\n",
       "       'Celebrities&Events'], dtype=object)"
      ]
     },
     "execution_count": 6,
     "metadata": {},
     "output_type": "execute_result"
    }
   ],
   "source": [
    "res.topic.unique()"
   ]
  },
  {
   "cell_type": "markdown",
   "id": "27c1a7c0",
   "metadata": {},
   "source": [
    "# 'Celebrities&Events'"
   ]
  },
  {
   "cell_type": "code",
   "execution_count": 32,
   "id": "b8d7b805",
   "metadata": {},
   "outputs": [],
   "source": [
    "pd.set_option('display.max_colwidth', 200)"
   ]
  },
  {
   "cell_type": "code",
   "execution_count": 101,
   "id": "74d36160",
   "metadata": {},
   "outputs": [],
   "source": [
    "test = res[res.topic=='Celebrities&Events']\n",
    "\n",
    "test = test[(test.lens>5) & (test.lens<100)]\n",
    "\n",
    "test = test[test.source=='celebs-reddit.csv']\n",
    "\n",
    "test = test.drop_duplicates('text')"
   ]
  },
  {
   "cell_type": "code",
   "execution_count": 102,
   "id": "22efd955",
   "metadata": {},
   "outputs": [],
   "source": [
    "res = pd.concat([res[res.topic!='Celebrities&Events'],test])"
   ]
  },
  {
   "cell_type": "markdown",
   "id": "fb4d295c",
   "metadata": {},
   "source": [
    "# Travel"
   ]
  },
  {
   "cell_type": "code",
   "execution_count": 104,
   "id": "edc6849b",
   "metadata": {},
   "outputs": [],
   "source": [
    "test = res[res.topic=='Travel']\n",
    "\n",
    "test = test[(test.lens>5) & (test.lens<70)]\n",
    "\n",
    "res[(res.lens>6) & (res.old_lens<70)]\n",
    "\n",
    "import json\n",
    "\n",
    "temp = list()\n",
    "for path in ['review_quote_USonly.json',\n",
    "'review_content_world.json',\n",
    "'review_content_USonly.json',\n",
    "'review_content_USonly.json']:\n",
    "    \n",
    "    with open(path, 'r') as j:\n",
    "         contents = json.loads(j.read())\n",
    "    for i in contents.keys():\n",
    "        temp+=contents[i]\n",
    "\n",
    "temp = pd.DataFrame(temp, columns=['text'])\n",
    "\n",
    "temp['topic'] = 'Travel'\n",
    "temp['origin_topic'] = 'museum_review'\n",
    "temp['source'] = 'museum-data-tripadvizor-kaggle'"
   ]
  },
  {
   "cell_type": "code",
   "execution_count": 141,
   "id": "d3278430",
   "metadata": {},
   "outputs": [
    {
     "name": "stdout",
     "output_type": "stream",
     "text": [
      "CPU times: user 653 ms, sys: 23.2 ms, total: 677 ms\n",
      "Wall time: 675 ms\n"
     ]
    }
   ],
   "source": [
    "%%time\n",
    "temp['text'] = temp['text'].apply(remove_subreddit_symbol)\n",
    "temp['text'] = temp['text'].apply(remove_line_breaks)\n",
    "temp['text'] = temp['text'].apply(remove_double_space)\n",
    "\n",
    "def temp_preprocessor(text):\n",
    "    text = remove_emoticons(text)\n",
    "    text = remove_emoji(text)\n",
    "    text = remove_punctuation(text)\n",
    "    text = text.lower()\n",
    "    text = tokenize_(text)\n",
    "    text = remove_stopwords(text)\n",
    "    text = lemma_(text)\n",
    "    text = remove_stopwords(text)\n",
    "    #text = remove_top_1000_google(text)\n",
    "    return text\n",
    "\n",
    "temp['new_text'] = temp['text'].apply(temp_preprocessor)\n",
    "\n",
    "temp['lens'] = temp.new_text.str.split().apply(len)"
   ]
  },
  {
   "cell_type": "code",
   "execution_count": 151,
   "id": "12e596c2",
   "metadata": {},
   "outputs": [],
   "source": [
    "temp = temp[(temp.lens>5) & (temp.lens<70)]"
   ]
  },
  {
   "cell_type": "code",
   "execution_count": 154,
   "id": "02644820",
   "metadata": {},
   "outputs": [],
   "source": [
    "test = test.sample(40_000)"
   ]
  },
  {
   "cell_type": "code",
   "execution_count": 156,
   "id": "885a7761",
   "metadata": {},
   "outputs": [],
   "source": [
    "res = pd.concat([test,temp,res[res.topic!='Travel']])"
   ]
  },
  {
   "cell_type": "code",
   "execution_count": 157,
   "id": "17c6f021",
   "metadata": {},
   "outputs": [
    {
     "data": {
      "text/plain": [
       "2463"
      ]
     },
     "execution_count": 157,
     "metadata": {},
     "output_type": "execute_result"
    }
   ],
   "source": [
    "del [temp,test]\n",
    "import gc\n",
    "gc.collect()"
   ]
  },
  {
   "cell_type": "markdown",
   "id": "0ea141a4",
   "metadata": {},
   "source": [
    "# kek"
   ]
  },
  {
   "cell_type": "code",
   "execution_count": 160,
   "id": "48a17437",
   "metadata": {},
   "outputs": [
    {
     "data": {
      "text/plain": [
       "4095"
      ]
     },
     "execution_count": 160,
     "metadata": {},
     "output_type": "execute_result"
    }
   ],
   "source": [
    "res.lens.max()"
   ]
  },
  {
   "cell_type": "code",
   "execution_count": 162,
   "id": "a092b125",
   "metadata": {},
   "outputs": [
    {
     "name": "stdout",
     "output_type": "stream",
     "text": [
      "/data/home/admin/topic-classifier\n"
     ]
    }
   ],
   "source": [
    "cd ./topic-classifier/"
   ]
  },
  {
   "cell_type": "code",
   "execution_count": 164,
   "id": "b2dd980a",
   "metadata": {},
   "outputs": [
    {
     "name": "stdout",
     "output_type": "stream",
     "text": [
      "CPU times: user 1min 28s, sys: 4.8 s, total: 1min 33s\n",
      "Wall time: 1min 34s\n"
     ]
    }
   ],
   "source": [
    "%%time\n",
    "res.to_csv('./dataset-train-data/dataset_v6_with_new_text.csv', index=False)"
   ]
  },
  {
   "cell_type": "code",
   "execution_count": 174,
   "id": "48661be1",
   "metadata": {},
   "outputs": [],
   "source": [
    "res = res[(res.lens>=6) & (res.lens<=70)]"
   ]
  },
  {
   "cell_type": "code",
   "execution_count": 176,
   "id": "19ae71f2",
   "metadata": {},
   "outputs": [],
   "source": [
    "res = res[['text','topic']]"
   ]
  },
  {
   "cell_type": "markdown",
   "id": "edd2a8dc",
   "metadata": {},
   "source": [
    "# cut"
   ]
  },
  {
   "cell_type": "code",
   "execution_count": 197,
   "id": "81340683",
   "metadata": {},
   "outputs": [],
   "source": [
    "res.to_csv('./dataset-train-data/dataset_v6_FINAL.csv', index=False)"
   ]
  },
  {
   "cell_type": "code",
   "execution_count": 4,
   "id": "64d704a6",
   "metadata": {},
   "outputs": [],
   "source": [
    "from nltk.tokenize import word_tokenize\n",
    "\n",
    "def tt_len(text):\n",
    "    return len(word_tokenize(text))"
   ]
  },
  {
   "cell_type": "code",
   "execution_count": 5,
   "id": "9bfe53e1",
   "metadata": {},
   "outputs": [
    {
     "name": "stdout",
     "output_type": "stream",
     "text": [
      "CPU times: user 12 s, sys: 1.35 s, total: 13.3 s\n",
      "Wall time: 13.3 s\n"
     ]
    }
   ],
   "source": [
    "%%time\n",
    "res = pd.read_csv('./dataset-train-data/dataset_v6_FINAL.csv')"
   ]
  },
  {
   "cell_type": "code",
   "execution_count": 6,
   "id": "9b1ab7bc",
   "metadata": {},
   "outputs": [],
   "source": [
    "import multiprocessing as mp"
   ]
  },
  {
   "cell_type": "code",
   "execution_count": null,
   "id": "cdda1657",
   "metadata": {},
   "outputs": [],
   "source": [
    "%%time\n",
    "with mp.Pool(mp.cpu_count()) as pool:\n",
    "        res['lens'] = pool.map(tt_len, res['text'])"
   ]
  },
  {
   "cell_type": "code",
   "execution_count": 7,
   "id": "3f75ed2c",
   "metadata": {},
   "outputs": [],
   "source": [
    "top = res.topic.value_counts().reset_index()"
   ]
  },
  {
   "cell_type": "code",
   "execution_count": 9,
   "id": "20c27e8c",
   "metadata": {},
   "outputs": [],
   "source": [
    "bot = top[top.topic<100_000]['index'].tolist()\n",
    "top = top[top.topic>100_000]['index'].tolist()"
   ]
  },
  {
   "cell_type": "code",
   "execution_count": 13,
   "id": "4951310f",
   "metadata": {},
   "outputs": [],
   "source": [
    "bot = res[res.topic.isin(bot)]"
   ]
  },
  {
   "cell_type": "code",
   "execution_count": 15,
   "id": "189d54ae",
   "metadata": {},
   "outputs": [],
   "source": [
    "top = res[res.topic.isin(top )]"
   ]
  },
  {
   "cell_type": "code",
   "execution_count": 23,
   "id": "985cb1e1",
   "metadata": {},
   "outputs": [],
   "source": [
    "random_state = 123\n",
    "top_=pd.DataFrame()\n",
    "for i in top.topic.unique():\n",
    "    top_ = pd.concat([top[top.topic==i].sample(100_000, random_state=random_state), top_])"
   ]
  },
  {
   "cell_type": "code",
   "execution_count": 24,
   "id": "d75d2a36",
   "metadata": {},
   "outputs": [],
   "source": [
    "down = pd.concat([top_,bot])"
   ]
  },
  {
   "cell_type": "code",
   "execution_count": 26,
   "id": "c2316559",
   "metadata": {},
   "outputs": [],
   "source": [
    "from sklearn.model_selection import train_test_split"
   ]
  },
  {
   "cell_type": "code",
   "execution_count": 28,
   "id": "3f59ce39",
   "metadata": {},
   "outputs": [],
   "source": [
    "tr, ts = train_test_split(down, stratify=down['topic'], test_size=0.2, random_state=random_state)"
   ]
  },
  {
   "cell_type": "code",
   "execution_count": 32,
   "id": "7326b4a9",
   "metadata": {},
   "outputs": [],
   "source": [
    "val, ts = train_test_split(ts, stratify=ts['topic'], test_size=0.5, random_state=random_state)"
   ]
  },
  {
   "cell_type": "code",
   "execution_count": 35,
   "id": "e2000007",
   "metadata": {},
   "outputs": [],
   "source": [
    "tr.to_csv('./train_test/train_v2.csv',index=False)\n",
    "val.to_csv('./train_test/val_v2.csv',index=False)\n",
    "ts.to_csv('./train_test/test_v2.csv',index=False)"
   ]
  },
  {
   "cell_type": "code",
   "execution_count": 18,
   "id": "53d6a54d",
   "metadata": {},
   "outputs": [],
   "source": [
    "ress = res[(res.lens>=6) & (res.lens<=70)]"
   ]
  },
  {
   "cell_type": "code",
   "execution_count": 19,
   "id": "76a5b6a3",
   "metadata": {
    "scrolled": true
   },
   "outputs": [
    {
     "name": "stdout",
     "output_type": "stream",
     "text": [
      "Books&Literature - 422780\n",
      "Home&Design - 372993\n",
      "Music - 358767\n",
      "Leisure - 301090\n",
      "Beauty - 242170\n",
      "Videogames - 195229\n",
      "Animals&Pets - 192909\n",
      "Gadgets - 185964\n",
      "Movies&Tv - 175700\n",
      "Clothes - 173669\n",
      "Toys&Games - 160869\n",
      "Religion - 160144\n",
      "PersonalTransport - 159699\n",
      "Garden - 147297\n",
      "Space - 143521\n",
      "Food - 141960\n",
      "Art&Hobbies - 123732\n",
      "Depression - 83036\n",
      "Travel - 74394\n",
      "Health&Medicine - 61268\n",
      "Science&Technology - 51994\n",
      "News - 48113\n",
      "Job - 45428\n",
      "Disasters - 41152\n",
      "Politics - 20907\n",
      "Celebrities&Events - 20623\n",
      "Psychology - 20461\n",
      "ArtificialIntelligence - 17088\n",
      "Family&Relationships - 16937\n",
      "Finance - 16805\n",
      "Education - 16672\n",
      "MassTransit - 12472\n",
      "Sports - 11148\n"
     ]
    }
   ],
   "source": [
    "for i in ress.topic.value_counts().reset_index().values:\n",
    "    print(str(i[0])+' '+ '-'+' '+str(i[1]))"
   ]
  },
  {
   "cell_type": "code",
   "execution_count": 20,
   "id": "9c2ba9aa",
   "metadata": {},
   "outputs": [],
   "source": [
    "ress['source'] = ress.source.map(mapper)\n",
    "t = ress.groupby(['topic', 'source'])['text'].count().reset_index()\n",
    "t['s'] = t.source+'(' +t.text.astype(str)+ ' texts)'\n",
    "\n",
    "t = t.groupby('topic')['s'].apply(list).reset_index()"
   ]
  },
  {
   "cell_type": "code",
   "execution_count": 21,
   "id": "5ab7a486",
   "metadata": {},
   "outputs": [],
   "source": [
    "mapper = {'yelp_5topics.csv':'reviews from Yelp',\n",
    "'museum-data-tripadvizor-kaggle':'Raw Data Scraped from TripAdvisor (US/World), reviews about hotels and restaurants',\n",
    "'title-body-reddit.csv':'collection of posts from \"SuicideWatch\" and \"depression\" subreddits of the Reddit platform. ',\n",
    "'comments-reddit.csv':'collection of posts from \"SuicideWatch\" and \"depression\" subreddits of the Reddit platform. ',\n",
    "'self-dialogue.csv':'The Self-dialogue Corpus - a collection of self-dialogues across music, movies and sports',\n",
    "'ccpe.csv':'CCPE-M: Coached Conversational Preference Elicitation dataset for Movies', \n",
    "'multiwoz':'Multi-Domain Wizard-of-Oz dataset (MultiWOZ), a fully-labeled collection of human-human written conversations spanning over multiple domains and topics', \n",
    "'amazon':'Amazon reviews',\n",
    "'circa.csv':'The CIRCA dataset. The data is collected in 10 different social conversational situations (eg. food preferences of a friend',\n",
    "'depression.csv':'collection of posts from \"SuicideWatch\" and \"depression\" subreddits of the Reddit platform.',\n",
    "'women-clothes.csv': 'women’s Clothing E-Commerce dataset revolving around the reviews written by customers',\n",
    "'medium':'data from Medium posts(open datasets from kaggle)',\n",
    "'reddit-title-news-politics-relation':'collection of posts from \"SuicideWatch\" and \"depression\" subreddits of the Reddit platform. ',\n",
    "'reddit-body-news-politics-relation':'collection of posts from \"SuicideWatch\" and \"depression\" subreddits of the Reddit platform. ',\n",
    "'reddit-comments-news-politics-relation':'collection of posts from \"SuicideWatch\" and \"depression\" subreddits of the Reddit platform. ',\n",
    "'reddit-title-videogames':'collection of posts from \"SuicideWatch\" and \"depression\" subreddits of the Reddit platform. ',\n",
    "'reddit-body-videogames':'collection of posts from \"SuicideWatch\" and \"depression\" subreddits of the Reddit platform. ',\n",
    "'reddit-comments-videogames':'collection of posts from \"SuicideWatch\" and \"depression\" subreddits of the Reddit platform. ',\n",
    "'reddit-title-science-tech':'collection of posts from \"SuicideWatch\" and \"depression\" subreddits of the Reddit platform. ',\n",
    "'reddit-body-science-tech':'collection of posts from \"SuicideWatch\" and \"depression\" subreddits of the Reddit platform. ',\n",
    "'reddit-comments-science-tech':'collection of posts from \"SuicideWatch\" and \"depression\" subreddits of the Reddit platform. ',\n",
    "'celebs-reddit.csv':'collection of posts from \"SuicideWatch\" and \"depression\" subreddits of the Reddit platform. '}"
   ]
  },
  {
   "cell_type": "code",
   "execution_count": 34,
   "id": "eccf77dc",
   "metadata": {},
   "outputs": [],
   "source": [
    "for i in t.values:\n",
    "    break\n",
    "    print('\\paragraph' + '{'+ i[0] +'}'+' topic contains samples from ' +str(i[1]).replace('[','').replace(']','').replace(\"'\",''))"
   ]
  },
  {
   "cell_type": "code",
   "execution_count": 33,
   "id": "8cb8eefc",
   "metadata": {},
   "outputs": [],
   "source": [
    "for i in t.topic.values:\n",
    "    break\n",
    "    print(ress[ress.topic == i].origin_topic.unique())"
   ]
  },
  {
   "cell_type": "code",
   "execution_count": 62,
   "id": "4a50816b",
   "metadata": {
    "scrolled": true
   },
   "outputs": [
    {
     "data": {
      "text/plain": [
       "(4216991, 6)"
      ]
     },
     "execution_count": 62,
     "metadata": {},
     "output_type": "execute_result"
    }
   ],
   "source": [
    "ress.shape"
   ]
  },
  {
   "cell_type": "code",
   "execution_count": 75,
   "id": "e95755ee",
   "metadata": {},
   "outputs": [],
   "source": [
    "t = ress.text.str.replace(' ','').apply(len)"
   ]
  },
  {
   "cell_type": "code",
   "execution_count": 96,
   "id": "cb32f10f",
   "metadata": {},
   "outputs": [
    {
     "data": {
      "text/plain": [
       "<AxesSubplot:xlabel='Text length(symbols)', ylabel='Number of texts'>"
      ]
     },
     "execution_count": 96,
     "metadata": {},
     "output_type": "execute_result"
    },
    {
     "data": {
      "image/png": "[encoded data removed]",
      "text/plain": [
       "<Figure size 1224x720 with 1 Axes>"
      ]
     },
     "metadata": {},
     "output_type": "display_data"
    }
   ],
   "source": [
    "plt.figure(figsize=(17,10))\n",
    "plt.xlabel('Text length(symbols)')\n",
    "sns.set(font_scale=.1)\n",
    "plt.ylabel('Number of texts')\n",
    "t.hist(bins = 100)"
   ]
  },
  {
   "cell_type": "code",
   "execution_count": null,
   "id": "b2fb45f5",
   "metadata": {},
   "outputs": [],
   "source": []
  }
 ],
 "metadata": {
  "kernelspec": {
   "display_name": "Python 3 (ipykernel)",
   "language": "python",
   "name": "python3"
  },
  "language_info": {
   "codemirror_mode": {
    "name": "ipython",
    "version": 3
   },
   "file_extension": ".py",
   "mimetype": "text/x-python",
   "name": "python",
   "nbconvert_exporter": "python",
   "pygments_lexer": "ipython3",
   "version": "3.8.10"
  }
 },
 "nbformat": 4,
 "nbformat_minor": 5
}
