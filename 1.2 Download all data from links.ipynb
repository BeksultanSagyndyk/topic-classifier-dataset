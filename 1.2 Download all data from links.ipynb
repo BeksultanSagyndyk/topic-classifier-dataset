{
 "cells": [
  {
   "cell_type": "code",
   "execution_count": 1,
   "id": "fb3c6bf6",
   "metadata": {},
   "outputs": [],
   "source": [
    "import pandas as pd\n",
    "\n",
    "test= pd.read_csv('./reddit-data/DP Datsets - Классы и датасеты.csv')['Ссылка на датасет'].unique()\n",
    "\n",
    "test = [i for i in test if  'reddit' not in i ]\n",
    "\n",
    "git  = [i for i in test if 'github' in i]"
   ]
  },
  {
   "cell_type": "code",
   "execution_count": 8,
   "id": "829e2d22",
   "metadata": {
    "scrolled": true
   },
   "outputs": [
    {
     "name": "stdout",
     "output_type": "stream",
     "text": [
      "              total        used        free      shared  buff/cache   available\r\n",
      "Mem:           47Gi        18Gi        23Gi       8.0Mi       4.9Gi        28Gi\r\n",
      "Swap:         6.0Gi          0B       6.0Gi\r\n"
     ]
    }
   ],
   "source": [
    "! free -h"
   ]
  },
  {
   "cell_type": "markdown",
   "id": "cd4dda01",
   "metadata": {},
   "source": [
    "# clonning data from git"
   ]
  },
  {
   "cell_type": "code",
   "execution_count": 17,
   "id": "b6d5678e",
   "metadata": {},
   "outputs": [
    {
     "data": {
      "text/plain": [
       "['https://nijianmo.github.io/amazon/index.html',\n",
       " 'https://github.com/google-research-datasets/ccpe',\n",
       " 'https://github.com/budzianowski/multiwoz',\n",
       " 'https://github.com/jfainberg/self_dialogue_corpus']"
      ]
     },
     "execution_count": 17,
     "metadata": {},
     "output_type": "execute_result"
    }
   ],
   "source": [
    "git"
   ]
  },
  {
   "cell_type": "code",
   "execution_count": 16,
   "id": "f26c98c7",
   "metadata": {},
   "outputs": [
    {
     "name": "stdout",
     "output_type": "stream",
     "text": [
      "Cloning into 'ccpe'...\n",
      "remote: Enumerating objects: 13, done.\u001b[K\n",
      "remote: Counting objects: 100% (13/13), done.\u001b[K\n",
      "remote: Compressing objects: 100% (11/11), done.\u001b[K\n",
      "remote: Total 13 (delta 3), reused 6 (delta 2), pack-reused 0\u001b[K\n",
      "Unpacking objects: 100% (13/13), 531.27 KiB | 1.98 MiB/s, done.\n"
     ]
    }
   ],
   "source": [
    "! git clone https://github.com/google-research-datasets/ccpe.git"
   ]
  },
  {
   "cell_type": "code",
   "execution_count": 25,
   "id": "3349c5ae",
   "metadata": {},
   "outputs": [],
   "source": [
    "ccpe = pd.read_json('./ccpe/data.json')"
   ]
  },
  {
   "cell_type": "code",
   "execution_count": 23,
   "id": "5d99c724",
   "metadata": {},
   "outputs": [
    {
     "name": "stdout",
     "output_type": "stream",
     "text": [
      "Cloning into 'multiwoz'...\n",
      "remote: Enumerating objects: 568, done.\u001b[K\n",
      "remote: Counting objects: 100% (204/204), done.\u001b[K\n",
      "remote: Compressing objects: 100% (177/177), done.\u001b[K\n",
      "remote: Total 568 (delta 118), reused 49 (delta 26), pack-reused 364\u001b[K\n",
      "Receiving objects: 100% (568/568), 126.35 MiB | 11.27 MiB/s, done.\n",
      "Resolving deltas: 100% (332/332), done.\n",
      "Updating files: 100% (61/61), done.\n"
     ]
    }
   ],
   "source": [
    "! git clone https://github.com/budzianowski/multiwoz.git"
   ]
  },
  {
   "cell_type": "code",
   "execution_count": null,
   "id": "3edd7da4",
   "metadata": {},
   "outputs": [],
   "source": [
    "multiwoz = pd.read_json('./multiwoz/data/MultiWOZ_2.2/train/')"
   ]
  },
  {
   "cell_type": "code",
   "execution_count": 26,
   "id": "9df45c70",
   "metadata": {},
   "outputs": [
    {
     "name": "stdout",
     "output_type": "stream",
     "text": [
      "Cloning into 'self_dialogue_corpus'...\n",
      "remote: Enumerating objects: 210, done.\u001b[K\n",
      "remote: Total 210 (delta 0), reused 0 (delta 0), pack-reused 210\u001b[K\n",
      "Receiving objects: 100% (210/210), 9.31 MiB | 12.75 MiB/s, done.\n",
      "Resolving deltas: 100% (76/76), done.\n"
     ]
    }
   ],
   "source": [
    "! git clone https://github.com/jfainberg/self_dialogue_corpus.git"
   ]
  },
  {
   "cell_type": "code",
   "execution_count": 11,
   "id": "95a9fb97",
   "metadata": {},
   "outputs": [
    {
     "name": "stdout",
     "output_type": "stream",
     "text": [
      "Cloning into 'circa'...\n",
      "remote: Enumerating objects: 36, done.\u001b[K\n",
      "remote: Counting objects: 100% (36/36), done.\u001b[K\n",
      "remote: Compressing objects: 100% (34/34), done.\u001b[K\n",
      "remote: Total 36 (delta 10), reused 0 (delta 0), pack-reused 0\u001b[K\n",
      "Unpacking objects: 100% (36/36), 1.23 MiB | 1.83 MiB/s, done.\n"
     ]
    }
   ],
   "source": [
    "! git clone https://github.com/google-research-datasets/circa.git"
   ]
  },
  {
   "cell_type": "markdown",
   "id": "4ab8086e",
   "metadata": {},
   "source": [
    "# donwload amazon data"
   ]
  },
  {
   "cell_type": "code",
   "execution_count": 38,
   "id": "8b8bbf38",
   "metadata": {},
   "outputs": [
    {
     "name": "stdout",
     "output_type": "stream",
     "text": [
      "AMAZON_FASHION_5.json.gz  \u001b[0m\u001b[01;34mmultiwoz\u001b[0m/        \u001b[01;34mself_dialogue_corpus\u001b[0m/\r\n",
      "\u001b[01;34mccpe\u001b[0m/                     reddit-data.csv\r\n"
     ]
    }
   ],
   "source": [
    "ls datasets-data/"
   ]
  },
  {
   "cell_type": "code",
   "execution_count": 36,
   "id": "5c18942b",
   "metadata": {},
   "outputs": [],
   "source": [
    "! mv multiwoz// datasets-data/"
   ]
  },
  {
   "cell_type": "code",
   "execution_count": 44,
   "id": "e3a17b8d",
   "metadata": {},
   "outputs": [],
   "source": [
    "t = '''<table class=\"code-table\" style=\"font-size: 0.7em; width:90%\">\n",
    "\n",
    "<tbody><tr> \n",
    "      <td>Amazon Fashion</td> \n",
    "      <td><a href=\"http://deepyeti.ucsd.edu/jianmo/amazon/categoryFilesSmall/AMAZON_FASHION_5.json.gz\">5-core</a> (3,176 reviews)</td> \n",
    "      <td><a href=\"http://deepyeti.ucsd.edu/jianmo/amazon/categoryFilesSmall/AMAZON_FASHION.csv\">ratings only</a> (883,636 ratings)</td> \n",
    "    </tr>\n",
    "\n",
    "<tr> \n",
    "      <td>All Beauty</td> \n",
    "      <td><a href=\"http://deepyeti.ucsd.edu/jianmo/amazon/categoryFilesSmall/All_Beauty_5.json.gz\">5-core</a> (5,269 reviews)</td> \n",
    "      <td><a href=\"http://deepyeti.ucsd.edu/jianmo/amazon/categoryFilesSmall/All_Beauty.csv\">ratings only</a> (371,345 ratings)</td> \n",
    "    </tr>\n",
    "\n",
    "<tr> \n",
    "      <td>Appliances</td> \n",
    "      <td><a href=\"http://deepyeti.ucsd.edu/jianmo/amazon/categoryFilesSmall/Appliances_5.json.gz\">5-core</a> (2,277 reviews)</td> \n",
    "      <td><a href=\"http://deepyeti.ucsd.edu/jianmo/amazon/categoryFilesSmall/Appliances.csv\">ratings only</a> (602,777 ratings)</td> \n",
    "    </tr>\n",
    "\n",
    "<tr> \n",
    "      <td>Arts, Crafts and Sewing</td> \n",
    "      <td><a href=\"http://deepyeti.ucsd.edu/jianmo/amazon/categoryFilesSmall/Arts_Crafts_and_Sewing_5.json.gz\">5-core</a> (494,485 reviews)</td> \n",
    "      <td><a href=\"http://deepyeti.ucsd.edu/jianmo/amazon/categoryFilesSmall/Arts_Crafts_and_Sewing.csv\">ratings only</a> (2,875,917 ratings)</td> \n",
    "    </tr>\n",
    "\n",
    "<tr> \n",
    "      <td>Automotive</td> \n",
    "      <td><a href=\"http://deepyeti.ucsd.edu/jianmo/amazon/categoryFilesSmall/Automotive_5.json.gz\">5-core</a> (1,711,519 reviews)</td> \n",
    "      <td><a href=\"http://deepyeti.ucsd.edu/jianmo/amazon/categoryFilesSmall/Automotive.csv\">ratings only</a> (7,990,166 ratings)</td> \n",
    "    </tr>\n",
    "\n",
    "<tr> \n",
    "      <td>Books</td> \n",
    "      <td><a href=\"http://deepyeti.ucsd.edu/jianmo/amazon/categoryFilesSmall/Books_5.json.gz\">5-core</a> (27,164,983 reviews)</td> \n",
    "      <td><a href=\"http://deepyeti.ucsd.edu/jianmo/amazon/categoryFilesSmall/Books.csv\">ratings only</a> (51,311,621 ratings)</td> \n",
    "    </tr>\n",
    "\n",
    "<tr> \n",
    "      <td>CDs and Vinyl</td> \n",
    "      <td><a href=\"http://deepyeti.ucsd.edu/jianmo/amazon/categoryFilesSmall/CDs_and_Vinyl_5.json.gz\">5-core</a> (1,443,755 reviews)</td> \n",
    "      <td><a href=\"http://deepyeti.ucsd.edu/jianmo/amazon/categoryFilesSmall/CDs_and_Vinyl.csv\">ratings only</a> (4,543,369 ratings)</td> \n",
    "    </tr>\n",
    "\n",
    "<tr> \n",
    "      <td>Cell Phones and Accessories</td> \n",
    "      <td><a href=\"http://deepyeti.ucsd.edu/jianmo/amazon/categoryFilesSmall/Cell_Phones_and_Accessories_5.json.gz\">5-core</a> (1,128,437 reviews)</td> \n",
    "      <td><a href=\"http://deepyeti.ucsd.edu/jianmo/amazon/categoryFilesSmall/Cell_Phones_and_Accessories.csv\">ratings only</a> (10,063,255 ratings)</td> \n",
    "    </tr>\n",
    "\n",
    "<tr> \n",
    "      <td>Clothing, Shoes and Jewelry</td> \n",
    "      <td><a href=\"http://deepyeti.ucsd.edu/jianmo/amazon/categoryFilesSmall/Clothing_Shoes_and_Jewelry_5.json.gz\">5-core</a> (11,285,464 reviews)</td> \n",
    "      <td><a href=\"http://deepyeti.ucsd.edu/jianmo/amazon/categoryFilesSmall/Clothing_Shoes_and_Jewelry.csv\">ratings only</a> (32,292,099 ratings)</td> \n",
    "    </tr>\n",
    "\n",
    "<tr> \n",
    "      <td>Digital Music</td> \n",
    "      <td><a href=\"http://deepyeti.ucsd.edu/jianmo/amazon/categoryFilesSmall/Digital_Music_5.json.gz\">5-core</a> (169,781 reviews)</td> \n",
    "      <td><a href=\"http://deepyeti.ucsd.edu/jianmo/amazon/categoryFilesSmall/Digital_Music.csv\">ratings only</a> (1,584,082 ratings)</td> \n",
    "    </tr>\n",
    "\n",
    "<tr> \n",
    "      <td>Electronics</td> \n",
    "      <td><a href=\"http://deepyeti.ucsd.edu/jianmo/amazon/categoryFilesSmall/Electronics_5.json.gz\">5-core</a> (6,739,590 reviews)</td> \n",
    "      <td><a href=\"http://deepyeti.ucsd.edu/jianmo/amazon/categoryFilesSmall/Electronics.csv\">ratings only</a> (20,994,353 ratings)</td> \n",
    "    </tr>\n",
    "\n",
    "<tr> \n",
    "      <td>Gift Cards</td> \n",
    "      <td><a href=\"http://deepyeti.ucsd.edu/jianmo/amazon/categoryFilesSmall/Gift_Cards_5.json.gz\">5-core</a> (2,972 reviews)</td> \n",
    "      <td><a href=\"http://deepyeti.ucsd.edu/jianmo/amazon/categoryFilesSmall/Gift_Cards.csv\">ratings only</a> (147,194 ratings)</td> \n",
    "    </tr>\n",
    "\n",
    "<tr> \n",
    "      <td>Grocery and Gourmet Food</td> \n",
    "      <td><a href=\"http://deepyeti.ucsd.edu/jianmo/amazon/categoryFilesSmall/Grocery_and_Gourmet_Food_5.json.gz\">5-core</a> (1,143,860 reviews)</td> \n",
    "      <td><a href=\"http://deepyeti.ucsd.edu/jianmo/amazon/categoryFilesSmall/Grocery_and_Gourmet_Food.csv\">ratings only</a> (5,074,160 ratings)</td> \n",
    "    </tr>\n",
    "\n",
    "<tr> \n",
    "      <td>Home and Kitchen</td> \n",
    "      <td><a href=\"http://deepyeti.ucsd.edu/jianmo/amazon/categoryFilesSmall/Home_and_Kitchen_5.json.gz\">5-core</a> (6,898,955 reviews)</td> \n",
    "      <td><a href=\"http://deepyeti.ucsd.edu/jianmo/amazon/categoryFilesSmall/Home_and_Kitchen.csv\">ratings only</a> (21,928,568 ratings)</td> \n",
    "    </tr>\n",
    "\n",
    "<tr> \n",
    "      <td>Industrial and Scientific</td> \n",
    "      <td><a href=\"http://deepyeti.ucsd.edu/jianmo/amazon/categoryFilesSmall/Industrial_and_Scientific_5.json.gz\">5-core</a> (77,071 reviews)</td> \n",
    "      <td><a href=\"http://deepyeti.ucsd.edu/jianmo/amazon/categoryFilesSmall/Industrial_and_Scientific.csv\">ratings only</a> (1,758,333 ratings)</td> \n",
    "    </tr>\n",
    "\n",
    "<tr> \n",
    "      <td>Kindle Store</td> \n",
    "      <td><a href=\"http://deepyeti.ucsd.edu/jianmo/amazon/categoryFilesSmall/Kindle_Store_5.json.gz\">5-core</a> (2,222,983 reviews)</td> \n",
    "      <td><a href=\"http://deepyeti.ucsd.edu/jianmo/amazon/categoryFilesSmall/Kindle_Store.csv\">ratings only</a> (5,722,988 ratings)</td> \n",
    "    </tr>\n",
    "\n",
    "<tr> \n",
    "      <td>Luxury Beauty</td> \n",
    "      <td><a href=\"http://deepyeti.ucsd.edu/jianmo/amazon/categoryFilesSmall/Luxury_Beauty_5.json.gz\">5-core</a> (34,278 reviews)</td> \n",
    "      <td><a href=\"http://deepyeti.ucsd.edu/jianmo/amazon/categoryFilesSmall/Luxury_Beauty.csv\">ratings only</a> (574,628 ratings)</td> \n",
    "    </tr>\n",
    "\n",
    "<tr> \n",
    "      <td>Magazine Subscriptions</td> \n",
    "      <td><a href=\"http://deepyeti.ucsd.edu/jianmo/amazon/categoryFilesSmall/Magazine_Subscriptions_5.json.gz\">5-core</a> (2,375 reviews)</td> \n",
    "      <td><a href=\"http://deepyeti.ucsd.edu/jianmo/amazon/categoryFilesSmall/Magazine_Subscriptions.csv\">ratings only</a> (89,689 ratings)</td> \n",
    "    </tr>\n",
    "\n",
    "<tr> \n",
    "      <td>Movies and TV</td> \n",
    "      <td><a href=\"http://deepyeti.ucsd.edu/jianmo/amazon/categoryFilesSmall/Movies_and_TV_5.json.gz\">5-core</a> (3,410,019 reviews)</td> \n",
    "      <td><a href=\"http://deepyeti.ucsd.edu/jianmo/amazon/categoryFilesSmall/Movies_and_TV.csv\">ratings only</a> (8,765,568 ratings)</td> \n",
    "    </tr>\n",
    "\n",
    "<tr> \n",
    "      <td>Musical Instruments</td> \n",
    "      <td><a href=\"http://deepyeti.ucsd.edu/jianmo/amazon/categoryFilesSmall/Musical_Instruments_5.json.gz\">5-core</a> (231,392 reviews)</td> \n",
    "      <td><a href=\"http://deepyeti.ucsd.edu/jianmo/amazon/categoryFilesSmall/Musical_Instruments.csv\">ratings only</a> (1,512,530 ratings)</td> \n",
    "    </tr>\n",
    "\n",
    "<tr> \n",
    "      <td>Office Products</td> \n",
    "      <td><a href=\"http://deepyeti.ucsd.edu/jianmo/amazon/categoryFilesSmall/Office_Products_5.json.gz\">5-core</a> (800,357 reviews)</td> \n",
    "      <td><a href=\"http://deepyeti.ucsd.edu/jianmo/amazon/categoryFilesSmall/Office_Products.csv\">ratings only</a> (5,581,313 ratings)</td> \n",
    "    </tr>\n",
    "\n",
    "<tr> \n",
    "      <td>Patio, Lawn and Garden</td> \n",
    "      <td><a href=\"http://deepyeti.ucsd.edu/jianmo/amazon/categoryFilesSmall/Patio_Lawn_and_Garden_5.json.gz\">5-core</a> (798,415 reviews)</td> \n",
    "      <td><a href=\"http://deepyeti.ucsd.edu/jianmo/amazon/categoryFilesSmall/Patio_Lawn_and_Garden.csv\">ratings only</a> (5,236,058 ratings)</td> \n",
    "    </tr>\n",
    "\n",
    "<tr> \n",
    "      <td>Pet Supplies</td> \n",
    "      <td><a href=\"http://deepyeti.ucsd.edu/jianmo/amazon/categoryFilesSmall/Pet_Supplies_5.json.gz\">5-core</a> (2,098,325 reviews)</td> \n",
    "      <td><a href=\"http://deepyeti.ucsd.edu/jianmo/amazon/categoryFilesSmall/Pet_Supplies.csv\">ratings only</a> (6,542,483 ratings)</td> \n",
    "    </tr>\n",
    "\n",
    "<tr> \n",
    "      <td>Prime Pantry</td> \n",
    "      <td><a href=\"http://deepyeti.ucsd.edu/jianmo/amazon/categoryFilesSmall/Prime_Pantry_5.json.gz\">5-core</a> (137,788 reviews)</td> \n",
    "      <td><a href=\"http://deepyeti.ucsd.edu/jianmo/amazon/categoryFilesSmall/Prime_Pantry.csv\">ratings only</a> (471,614 ratings)</td> \n",
    "    </tr>\n",
    "\n",
    "<tr> \n",
    "      <td>Software</td> \n",
    "      <td><a href=\"http://deepyeti.ucsd.edu/jianmo/amazon/categoryFilesSmall/Software_5.json.gz\">5-core</a> (12,805 reviews)</td> \n",
    "      <td><a href=\"http://deepyeti.ucsd.edu/jianmo/amazon/categoryFilesSmall/Software.csv\">ratings only</a> (459,436 ratings)</td> \n",
    "    </tr>\n",
    "\n",
    "<tr> \n",
    "      <td>Sports and Outdoors</td> \n",
    "      <td><a href=\"http://deepyeti.ucsd.edu/jianmo/amazon/categoryFilesSmall/Sports_and_Outdoors_5.json.gz\">5-core</a> (2,839,940 reviews)</td> \n",
    "      <td><a href=\"http://deepyeti.ucsd.edu/jianmo/amazon/categoryFilesSmall/Sports_and_Outdoors.csv\">ratings only</a> (12,980,837 ratings)</td> \n",
    "    </tr>\n",
    "\n",
    "<tr> \n",
    "      <td>Tools and Home Improvement</td> \n",
    "      <td><a href=\"http://deepyeti.ucsd.edu/jianmo/amazon/categoryFilesSmall/Tools_and_Home_Improvement_5.json.gz\">5-core</a> (2,070,831 reviews)</td> \n",
    "      <td><a href=\"http://deepyeti.ucsd.edu/jianmo/amazon/categoryFilesSmall/Tools_and_Home_Improvement.csv\">ratings only</a> (9,015,203 ratings)</td> \n",
    "    </tr>\n",
    "\n",
    "<tr> \n",
    "      <td>Toys and Games</td> \n",
    "      <td><a href=\"http://deepyeti.ucsd.edu/jianmo/amazon/categoryFilesSmall/Toys_and_Games_5.json.gz\">5-core</a> (1,828,971 reviews)</td> \n",
    "      <td><a href=\"http://deepyeti.ucsd.edu/jianmo/amazon/categoryFilesSmall/Toys_and_Games.csv\">ratings only</a> (8,201,231 ratings)</td> \n",
    "    </tr>\n",
    "\n",
    "<tr> \n",
    "      <td>Video Games</td> \n",
    "      <td><a href=\"http://deepyeti.ucsd.edu/jianmo/amazon/categoryFilesSmall/Video_Games_5.json.gz\">5-core</a> (497,577 reviews)</td> \n",
    "      <td><a href=\"http://deepyeti.ucsd.edu/jianmo/amazon/categoryFilesSmall/Video_Games.csv\">ratings only</a> (2,565,349 ratings)</td> \n",
    "    </tr>\n",
    "\n",
    "</tbody></table>'''"
   ]
  },
  {
   "cell_type": "code",
   "execution_count": 53,
   "id": "db68918d",
   "metadata": {},
   "outputs": [],
   "source": [
    "from bs4 import BeautifulSoup\n",
    "\n",
    "import wget\n",
    "\n",
    "import tqdm"
   ]
  },
  {
   "cell_type": "code",
   "execution_count": 55,
   "id": "1faeed5a",
   "metadata": {},
   "outputs": [],
   "source": [
    "parsed_html = BeautifulSoup(t)"
   ]
  },
  {
   "cell_type": "code",
   "execution_count": 65,
   "id": "5262a87a",
   "metadata": {},
   "outputs": [],
   "source": [
    "all_links = [i['href'] for i in parsed_html.find_all('a')]\n",
    "all_links = [i for i in all_links if '_5' in i]"
   ]
  },
  {
   "cell_type": "code",
   "execution_count": 72,
   "id": "2fc8e626",
   "metadata": {},
   "outputs": [
    {
     "name": "stderr",
     "output_type": "stream",
     "text": [
      "/tmp/ipykernel_16702/4114948646.py:1: TqdmDeprecationWarning: This function will be removed in tqdm==5.0.0\n",
      "Please use `tqdm.notebook.tqdm` instead of `tqdm.tqdm_notebook`\n",
      "  for i in tqdm.tqdm_notebook(all_links):\n"
     ]
    },
    {
     "data": {
      "application/vnd.jupyter.widget-view+json": {
       "model_id": "9257c25c733747198ae166dbd0ad3e28",
       "version_major": 2,
       "version_minor": 0
      },
      "text/plain": [
       "  0%|          | 0/29 [00:00<?, ?it/s]"
      ]
     },
     "metadata": {},
     "output_type": "display_data"
    },
    {
     "name": "stdout",
     "output_type": "stream",
     "text": [
      " 28% [...................                                                 ] 2009776128 / 7096438325"
     ]
    },
    {
     "name": "stderr",
     "output_type": "stream",
     "text": [
      "IOPub data rate exceeded.\n",
      "The notebook server will temporarily stop sending output\n",
      "to the client in order to avoid crashing it.\n",
      "To change this limit, set the config variable\n",
      "`--NotebookApp.iopub_data_rate_limit`.\n",
      "\n",
      "Current values:\n",
      "NotebookApp.iopub_data_rate_limit=1000000.0 (bytes/sec)\n",
      "NotebookApp.rate_limit_window=3.0 (secs)\n",
      "\n"
     ]
    },
    {
     "name": "stdout",
     "output_type": "stream",
     "text": [
      " 43% [.............................                                       ] 3062456320 / 7096438325"
     ]
    },
    {
     "name": "stderr",
     "output_type": "stream",
     "text": [
      "IOPub data rate exceeded.\n",
      "The notebook server will temporarily stop sending output\n",
      "to the client in order to avoid crashing it.\n",
      "To change this limit, set the config variable\n",
      "`--NotebookApp.iopub_data_rate_limit`.\n",
      "\n",
      "Current values:\n",
      "NotebookApp.iopub_data_rate_limit=1000000.0 (bytes/sec)\n",
      "NotebookApp.rate_limit_window=3.0 (secs)\n",
      "\n"
     ]
    },
    {
     "name": "stdout",
     "output_type": "stream",
     "text": [
      " 46% [...............................                                     ] 3272204288 / 7096438325"
     ]
    },
    {
     "name": "stderr",
     "output_type": "stream",
     "text": [
      "IOPub data rate exceeded.\n",
      "The notebook server will temporarily stop sending output\n",
      "to the client in order to avoid crashing it.\n",
      "To change this limit, set the config variable\n",
      "`--NotebookApp.iopub_data_rate_limit`.\n",
      "\n",
      "Current values:\n",
      "NotebookApp.iopub_data_rate_limit=1000000.0 (bytes/sec)\n",
      "NotebookApp.rate_limit_window=3.0 (secs)\n",
      "\n"
     ]
    },
    {
     "name": "stdout",
     "output_type": "stream",
     "text": [
      " 62% [..........................................                          ] 4400799744 / 7096438325"
     ]
    },
    {
     "name": "stderr",
     "output_type": "stream",
     "text": [
      "IOPub data rate exceeded.\n",
      "The notebook server will temporarily stop sending output\n",
      "to the client in order to avoid crashing it.\n",
      "To change this limit, set the config variable\n",
      "`--NotebookApp.iopub_data_rate_limit`.\n",
      "\n",
      "Current values:\n",
      "NotebookApp.iopub_data_rate_limit=1000000.0 (bytes/sec)\n",
      "NotebookApp.rate_limit_window=3.0 (secs)\n",
      "\n"
     ]
    },
    {
     "name": "stdout",
     "output_type": "stream",
     "text": [
      " 65% [............................................                        ] 4614602752 / 7096438325"
     ]
    },
    {
     "name": "stderr",
     "output_type": "stream",
     "text": [
      "IOPub data rate exceeded.\n",
      "The notebook server will temporarily stop sending output\n",
      "to the client in order to avoid crashing it.\n",
      "To change this limit, set the config variable\n",
      "`--NotebookApp.iopub_data_rate_limit`.\n",
      "\n",
      "Current values:\n",
      "NotebookApp.iopub_data_rate_limit=1000000.0 (bytes/sec)\n",
      "NotebookApp.rate_limit_window=3.0 (secs)\n",
      "\n"
     ]
    },
    {
     "name": "stdout",
     "output_type": "stream",
     "text": [
      " 81% [.......................................................             ] 5756420096 / 7096438325"
     ]
    },
    {
     "name": "stderr",
     "output_type": "stream",
     "text": [
      "IOPub data rate exceeded.\n",
      "The notebook server will temporarily stop sending output\n",
      "to the client in order to avoid crashing it.\n",
      "To change this limit, set the config variable\n",
      "`--NotebookApp.iopub_data_rate_limit`.\n",
      "\n",
      "Current values:\n",
      "NotebookApp.iopub_data_rate_limit=1000000.0 (bytes/sec)\n",
      "NotebookApp.rate_limit_window=3.0 (secs)\n",
      "\n"
     ]
    },
    {
     "name": "stdout",
     "output_type": "stream",
     "text": [
      " 84% [.........................................................           ] 5967790080 / 7096438325"
     ]
    },
    {
     "name": "stderr",
     "output_type": "stream",
     "text": [
      "IOPub data rate exceeded.\n",
      "The notebook server will temporarily stop sending output\n",
      "to the client in order to avoid crashing it.\n",
      "To change this limit, set the config variable\n",
      "`--NotebookApp.iopub_data_rate_limit`.\n",
      "\n",
      "Current values:\n",
      "NotebookApp.iopub_data_rate_limit=1000000.0 (bytes/sec)\n",
      "NotebookApp.rate_limit_window=3.0 (secs)\n",
      "\n"
     ]
    },
    {
     "name": "stdout",
     "output_type": "stream",
     "text": [
      " 27% [...................                                                   ] 135553024 / 484144315"
     ]
    },
    {
     "name": "stderr",
     "output_type": "stream",
     "text": [
      "IOPub data rate exceeded.\n",
      "The notebook server will temporarily stop sending output\n",
      "to the client in order to avoid crashing it.\n",
      "To change this limit, set the config variable\n",
      "`--NotebookApp.iopub_data_rate_limit`.\n",
      "\n",
      "Current values:\n",
      "NotebookApp.iopub_data_rate_limit=1000000.0 (bytes/sec)\n",
      "NotebookApp.rate_limit_window=3.0 (secs)\n",
      "\n"
     ]
    },
    {
     "name": "stdout",
     "output_type": "stream",
     "text": [
      " 70% [.................................................                     ] 342515712 / 484144315"
     ]
    },
    {
     "name": "stderr",
     "output_type": "stream",
     "text": [
      "IOPub data rate exceeded.\n",
      "The notebook server will temporarily stop sending output\n",
      "to the client in order to avoid crashing it.\n",
      "To change this limit, set the config variable\n",
      "`--NotebookApp.iopub_data_rate_limit`.\n",
      "\n",
      "Current values:\n",
      "NotebookApp.iopub_data_rate_limit=1000000.0 (bytes/sec)\n",
      "NotebookApp.rate_limit_window=3.0 (secs)\n",
      "\n"
     ]
    },
    {
     "name": "stdout",
     "output_type": "stream",
     "text": [
      " 64% [...........................................                         ]  813539328 / 1262892731"
     ]
    },
    {
     "name": "stderr",
     "output_type": "stream",
     "text": [
      "IOPub data rate exceeded.\n",
      "The notebook server will temporarily stop sending output\n",
      "to the client in order to avoid crashing it.\n",
      "To change this limit, set the config variable\n",
      "`--NotebookApp.iopub_data_rate_limit`.\n",
      "\n",
      "Current values:\n",
      "NotebookApp.iopub_data_rate_limit=1000000.0 (bytes/sec)\n",
      "NotebookApp.rate_limit_window=3.0 (secs)\n",
      "\n"
     ]
    },
    {
     "name": "stdout",
     "output_type": "stream",
     "text": [
      " 38% [..........................                                          ]  486326272 / 1251876861"
     ]
    },
    {
     "name": "stderr",
     "output_type": "stream",
     "text": [
      "IOPub data rate exceeded.\n",
      "The notebook server will temporarily stop sending output\n",
      "to the client in order to avoid crashing it.\n",
      "To change this limit, set the config variable\n",
      "`--NotebookApp.iopub_data_rate_limit`.\n",
      "\n",
      "Current values:\n",
      "NotebookApp.iopub_data_rate_limit=1000000.0 (bytes/sec)\n",
      "NotebookApp.rate_limit_window=3.0 (secs)\n",
      "\n"
     ]
    },
    {
     "name": "stdout",
     "output_type": "stream",
     "text": [
      " 13% [.........                                                             ] 126050304 / 953876340"
     ]
    },
    {
     "name": "stderr",
     "output_type": "stream",
     "text": [
      "IOPub data rate exceeded.\n",
      "The notebook server will temporarily stop sending output\n",
      "to the client in order to avoid crashing it.\n",
      "To change this limit, set the config variable\n",
      "`--NotebookApp.iopub_data_rate_limit`.\n",
      "\n",
      "Current values:\n",
      "NotebookApp.iopub_data_rate_limit=1000000.0 (bytes/sec)\n",
      "NotebookApp.rate_limit_window=3.0 (secs)\n",
      "\n"
     ]
    },
    {
     "name": "stdout",
     "output_type": "stream",
     "text": [
      " 29% [....................                                                  ] 156524544 / 538673481"
     ]
    },
    {
     "name": "stderr",
     "output_type": "stream",
     "text": [
      "IOPub data rate exceeded.\n",
      "The notebook server will temporarily stop sending output\n",
      "to the client in order to avoid crashing it.\n",
      "To change this limit, set the config variable\n",
      "`--NotebookApp.iopub_data_rate_limit`.\n",
      "\n",
      "Current values:\n",
      "NotebookApp.iopub_data_rate_limit=1000000.0 (bytes/sec)\n",
      "NotebookApp.rate_limit_window=3.0 (secs)\n",
      "\n"
     ]
    },
    {
     "name": "stdout",
     "output_type": "stream",
     "text": [
      " 73% [...................................................                   ] 579403776 / 791322468"
     ]
    },
    {
     "name": "stderr",
     "output_type": "stream",
     "text": [
      "IOPub data rate exceeded.\n",
      "The notebook server will temporarily stop sending output\n",
      "to the client in order to avoid crashing it.\n",
      "To change this limit, set the config variable\n",
      "`--NotebookApp.iopub_data_rate_limit`.\n",
      "\n",
      "Current values:\n",
      "NotebookApp.iopub_data_rate_limit=1000000.0 (bytes/sec)\n",
      "NotebookApp.rate_limit_window=3.0 (secs)\n",
      "\n"
     ]
    },
    {
     "name": "stdout",
     "output_type": "stream",
     "text": [
      " 35% [........................                                              ] 147791872 / 414308704"
     ]
    },
    {
     "name": "stderr",
     "output_type": "stream",
     "text": [
      "IOPub data rate exceeded.\n",
      "The notebook server will temporarily stop sending output\n",
      "to the client in order to avoid crashing it.\n",
      "To change this limit, set the config variable\n",
      "`--NotebookApp.iopub_data_rate_limit`.\n",
      "\n",
      "Current values:\n",
      "NotebookApp.iopub_data_rate_limit=1000000.0 (bytes/sec)\n",
      "NotebookApp.rate_limit_window=3.0 (secs)\n",
      "\n"
     ]
    },
    {
     "name": "stdout",
     "output_type": "stream",
     "text": [
      " 70% [.................................................                     ] 292364288 / 414308704"
     ]
    },
    {
     "name": "stderr",
     "output_type": "stream",
     "text": [
      "IOPub data rate exceeded.\n",
      "The notebook server will temporarily stop sending output\n",
      "to the client in order to avoid crashing it.\n",
      "To change this limit, set the config variable\n",
      "`--NotebookApp.iopub_data_rate_limit`.\n",
      "\n",
      "Current values:\n",
      "NotebookApp.iopub_data_rate_limit=1000000.0 (bytes/sec)\n",
      "NotebookApp.rate_limit_window=3.0 (secs)\n",
      "\n"
     ]
    }
   ],
   "source": [
    "for i in tqdm.tqdm_notebook(all_links):\n",
    "    wget.download(i)"
   ]
  },
  {
   "cell_type": "markdown",
   "id": "012ff674",
   "metadata": {},
   "source": [
    "# data from kaggle"
   ]
  },
  {
   "cell_type": "code",
   "execution_count": 86,
   "id": "8306310c",
   "metadata": {},
   "outputs": [],
   "source": [
    "! cp ./kaggle/kaggle.json /home/admin/.kaggle/"
   ]
  },
  {
   "cell_type": "code",
   "execution_count": 89,
   "id": "71f5c2de",
   "metadata": {},
   "outputs": [],
   "source": [
    "! chmod 600 /home/admin/.kaggle/kaggle.json"
   ]
  },
  {
   "cell_type": "code",
   "execution_count": 95,
   "id": "24231a96",
   "metadata": {},
   "outputs": [
    {
     "name": "stdout",
     "output_type": "stream",
     "text": [
      "Downloading medium-stories.zip to /data/home/admin/topic-classifier\n",
      " 99%|███████████████████████████████████████▌| 156M/158M [00:09<00:00, 19.1MB/s]\n",
      "100%|████████████████████████████████████████| 158M/158M [00:09<00:00, 17.1MB/s]\n"
     ]
    }
   ],
   "source": [
    "! kaggle datasets download -d harrisonjansma/medium-stories"
   ]
  },
  {
   "cell_type": "code",
   "execution_count": 97,
   "id": "6a028540",
   "metadata": {},
   "outputs": [
    {
     "name": "stdout",
     "output_type": "stream",
     "text": [
      "[sudo] password for admin: \n"
     ]
    }
   ],
   "source": [
    "! sudo apt-get install unzip"
   ]
  },
  {
   "cell_type": "code",
   "execution_count": 98,
   "id": "f8b44290",
   "metadata": {},
   "outputs": [
    {
     "name": "stdout",
     "output_type": "stream",
     "text": [
      "Archive:  medium-stories.zip\n",
      "  inflating: Medium_Clean.csv        \n"
     ]
    }
   ],
   "source": [
    "! unzip medium-stories.zip"
   ]
  },
  {
   "cell_type": "code",
   "execution_count": 99,
   "id": "ff8e242a",
   "metadata": {},
   "outputs": [],
   "source": [
    "! mv Medium_Clean.csv ./datasets-data/"
   ]
  },
  {
   "cell_type": "code",
   "execution_count": 1,
   "id": "53c432a3",
   "metadata": {},
   "outputs": [
    {
     "name": "stdout",
     "output_type": "stream",
     "text": [
      "Downloading yelp-dataset.zip to /data/home/admin/topic-classifier\n",
      "100%|█████████████████████████████████████▉| 4.92G/4.92G [05:26<00:00, 17.0MB/s]\n",
      "100%|██████████████████████████████████████| 4.92G/4.92G [05:26<00:00, 16.2MB/s]\n"
     ]
    }
   ],
   "source": [
    "! kaggle datasets download -d yelp-dataset/yelp-dataset/"
   ]
  },
  {
   "cell_type": "code",
   "execution_count": 3,
   "id": "8dd8eab2",
   "metadata": {},
   "outputs": [],
   "source": [
    "! mv yelp-dataset.zip datasets-data/"
   ]
  },
  {
   "cell_type": "code",
   "execution_count": 4,
   "id": "73728cbf",
   "metadata": {},
   "outputs": [
    {
     "name": "stdout",
     "output_type": "stream",
     "text": [
      "Archive:  ./datasets-data/yelp-dataset.zip\n",
      "  inflating: Dataset_User_Agreement.pdf  \n",
      "  inflating: yelp_academic_dataset_business.json  \n",
      "  inflating: yelp_academic_dataset_checkin.json  \n",
      "  inflating: yelp_academic_dataset_review.json  \n",
      "  inflating: yelp_academic_dataset_tip.json  \n",
      "  inflating: yelp_academic_dataset_user.json  \n"
     ]
    }
   ],
   "source": [
    "! unzip ./datasets-data/yelp-dataset.zip"
   ]
  },
  {
   "cell_type": "code",
   "execution_count": 1,
   "id": "2b1f08a5",
   "metadata": {},
   "outputs": [
    {
     "name": "stdout",
     "output_type": "stream",
     "text": [
      "Downloading suicide-watch.zip to /data/home/admin/topic-classifier\n",
      " 97%|████████████████████████████████████▉ | 59.0M/60.6M [00:03<00:00, 17.6MB/s]\n",
      "100%|██████████████████████████████████████| 60.6M/60.6M [00:03<00:00, 17.0MB/s]\n"
     ]
    }
   ],
   "source": [
    "! kaggle datasets download nikhileswarkomati/suicide-watch"
   ]
  },
  {
   "cell_type": "code",
   "execution_count": 5,
   "id": "ee1f5d9a",
   "metadata": {},
   "outputs": [],
   "source": [
    "! mv suicide-watch.zip ./downloaded-data/"
   ]
  },
  {
   "cell_type": "code",
   "execution_count": null,
   "id": "82ab1cad",
   "metadata": {},
   "outputs": [],
   "source": [
    "! kaggle datasets download nikhileswarkomati/suicide-watch"
   ]
  },
  {
   "cell_type": "code",
   "execution_count": 12,
   "id": "5363c93a",
   "metadata": {},
   "outputs": [
    {
     "name": "stdout",
     "output_type": "stream",
     "text": [
      "Downloading womens-ecommerce-clothing-reviews.zip to /data/home/admin/topic-classifier\n",
      " 36%|█████████████▋                        | 1.00M/2.79M [00:00<00:00, 9.58MB/s]\n",
      "100%|██████████████████████████████████████| 2.79M/2.79M [00:00<00:00, 15.8MB/s]\n"
     ]
    }
   ],
   "source": [
    "! kaggle datasets download nicapotato/womens-ecommerce-clothing-reviews"
   ]
  },
  {
   "cell_type": "code",
   "execution_count": null,
   "id": "e43e4a4a",
   "metadata": {},
   "outputs": [],
   "source": []
  }
 ],
 "metadata": {
  "kernelspec": {
   "display_name": "Python 3 (ipykernel)",
   "language": "python",
   "name": "python3"
  },
  "language_info": {
   "codemirror_mode": {
    "name": "ipython",
    "version": 3
   },
   "file_extension": ".py",
   "mimetype": "text/x-python",
   "name": "python",
   "nbconvert_exporter": "python",
   "pygments_lexer": "ipython3",
   "version": "3.8.10"
  }
 },
 "nbformat": 4,
 "nbformat_minor": 5
}
